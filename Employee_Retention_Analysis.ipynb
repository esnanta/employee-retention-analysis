{
  "cells": [
    {
      "cell_type": "markdown",
      "metadata": {
        "id": "yiKv6u_XzLfm"
      },
      "source": [
        "# Employee Retention Analysis"
      ]
    },
    {
      "cell_type": "markdown",
      "metadata": {
        "id": "breBJUu0zLfp"
      },
      "source": [
        "- Nama: Nantha Seutia\n",
        "- Email: ombakrinai@gmail.com\n",
        "- Id Dicoding: ombakrinai@gmail.com"
      ]
    },
    {
      "cell_type": "markdown",
      "metadata": {
        "id": "C7jDko_UzLfq"
      },
      "source": [
        "## Data Gathering"
      ]
    },
    {
      "cell_type": "markdown",
      "metadata": {
        "id": "c4yUKm_XzLfq"
      },
      "source": [
        "### Menyiapkan library yang dibutuhkan"
      ]
    },
    {
      "cell_type": "code",
      "execution_count": null,
      "metadata": {
        "id": "fiL2csQXzLfr"
      },
      "outputs": [],
      "source": [
        "# Import Library\n",
        "import csv\n",
        "import pandas as pd\n",
        "import seaborn as sns\n",
        "import matplotlib.pyplot as plt\n",
        "\n",
        "from sklearn.preprocessing import OrdinalEncoder, OneHotEncoder\n",
        "from scipy.stats import pearsonr, spearmanr\n"
      ]
    },
    {
      "cell_type": "markdown",
      "metadata": {
        "id": "fEG0Fg4OzLfr"
      },
      "source": [
        "### Menyiapkan data yang akan digunakan"
      ]
    },
    {
      "cell_type": "code",
      "source": [
        "# Data Gathering\n",
        "# Unduh file hanya sekali dan simpan lokal\n",
        "url = \"https://raw.githubusercontent.com/dicodingacademy/dicoding_dataset/main/employee/employee_data.csv\"\n",
        "local_path = \"employee_data.csv\"\n",
        "\n",
        "# Simpan lokal\n",
        "import requests\n",
        "with open(local_path, 'wb') as f:\n",
        "    f.write(requests.get(url).content)\n",
        "\n",
        "# Baca dari file lokal (lebih cepat)\n",
        "df = pd.read_csv(local_path, encoding=\"utf-8\")\n",
        "df.head()"
      ],
      "metadata": {
        "id": "fKY4JqzujOyv"
      },
      "execution_count": null,
      "outputs": []
    },
    {
      "cell_type": "markdown",
      "metadata": {
        "id": "RxMv0rb8zLfs"
      },
      "source": [
        "## Data Understanding"
      ]
    },
    {
      "cell_type": "code",
      "execution_count": null,
      "metadata": {
        "id": "udxdmhfqzLfs"
      },
      "outputs": [],
      "source": [
        "# Menampilkan ringkasan umum tentang dataset\n",
        "\n",
        "# 1. Ukuran Dataset\n",
        "print(f\"📊 Dataset memiliki {df.shape[0]} baris dan {df.shape[1]} kolom.\\n\")\n",
        "\n",
        "# 2. Nama-nama Kolom\n",
        "print(\"🧾 Kolom-kolom dalam dataset:\")\n",
        "print(\", \".join(df.columns), \"\\n\")\n",
        "\n",
        "# 3. Jumlah Data Duplikat\n",
        "duplicates = df.duplicated().sum()\n",
        "print(f\"🔁 Jumlah baris duplikat: {duplicates}\\n\")\n",
        "\n",
        "# 4. Kolom dengan Missing Values\n",
        "missing = df.isnull().sum()[df.isnull().sum() > 0]\n",
        "if not missing.empty:\n",
        "    print(\"⚠️ Kolom yang memiliki nilai hilang (missing values):\")\n",
        "    for col, val in missing.items():\n",
        "        print(f\"- {col}: {val}\")\n",
        "else:\n",
        "    print(\"✅ Tidak ada missing values dalam dataset.\")\n"
      ]
    },
    {
      "cell_type": "code",
      "source": [
        "df.info()"
      ],
      "metadata": {
        "id": "wM9ysDLTLmdr"
      },
      "execution_count": null,
      "outputs": []
    },
    {
      "cell_type": "markdown",
      "source": [
        "* Kolom Attrition hanya memiliki 1058 non-null dari 1470 → hilang sebanyak 412 entri.\n",
        "* Perlu pemeriksaan apakah data hilang berkaitan dengan korelasi tertentu atau acak.\n",
        "* Satu kolom numerik float: Attrition (seharusnya biner: 0 atau 1) bisa dikonversi ke int.\n",
        "* 8 kolom kategorikal: object → perlu encoding pada tahap Data Preparation."
      ],
      "metadata": {
        "id": "M1yuC9tMSX96"
      }
    },
    {
      "cell_type": "code",
      "source": [
        "df.describe()"
      ],
      "metadata": {
        "id": "i5L9FX5vU_tf"
      },
      "execution_count": null,
      "outputs": []
    },
    {
      "cell_type": "code",
      "source": [
        "# Mengecek Distribusi Target\n",
        "sns.countplot(data=df, x=\"Attrition\")\n",
        "plt.title(\"Distribusi Attrition (0 = Bertahan, 1 = Keluar)\")\n",
        "plt.show()\n",
        "\n",
        "df[\"Attrition\"].value_counts(dropna=False)"
      ],
      "metadata": {
        "id": "Y-GlEffZLsWw"
      },
      "execution_count": null,
      "outputs": []
    },
    {
      "cell_type": "markdown",
      "source": [
        "* Dataset tidak seimbang. Perlu penanganan khusus di tahap modeling: misalnya dengan resampling, class weighting, dsb.\n",
        "* 28% missing pada target harus ditangani sebelum modeling."
      ],
      "metadata": {
        "id": "tQlHEOm5dtdD"
      }
    },
    {
      "cell_type": "code",
      "source": [
        "# Distribusi Target & Fitur Numerik\n",
        "df.hist(figsize=(20, 15), bins=30)\n",
        "plt.suptitle(\"Distribusi Fitur Numerik\")\n",
        "plt.show()"
      ],
      "metadata": {
        "id": "ERYIHsNvXsjT"
      },
      "execution_count": null,
      "outputs": []
    },
    {
      "cell_type": "markdown",
      "source": [
        "* Distribusi merata: Age, HourlyRate, MonthlyRate, DailyRate, PercentSalaryHike\n",
        "* Distribusi skewed: DistanceFromHome, YearsAtCompany, YearsSinceLastPromotion, YearsWithCurrManager, YearsInCurrentRole\n",
        "* Distribusi skewed tinggi: MonthlyIncome, TotalWorkingYears\n",
        "\n",
        "\n"
      ],
      "metadata": {
        "id": "muIu_wWQeBud"
      }
    },
    {
      "cell_type": "code",
      "source": [
        "# Heatmap Korelasi:\n",
        "# * Melihat kekuatan hubungan antar fitur\n",
        "# * Menilai fitur apa yang berpengaruh terhadap target (Attrition)\n",
        "\n",
        "# Continuous numeric features (exclude ordinal + Attrition)\n",
        "numeric_features = ['Age', 'DailyRate', 'DistanceFromHome', 'HourlyRate', 'MonthlyIncome', 'MonthlyRate',\n",
        "                      'NumCompaniesWorked', 'PercentSalaryHike', 'TotalWorkingYears', 'TrainingTimesLastYear',\n",
        "                      'YearsAtCompany', 'YearsInCurrentRole', 'YearsSinceLastPromotion', 'YearsWithCurrManager']\n",
        "\n",
        "# Pearson correlation for continuous numeric\n",
        "pearson_corr = df[numeric_features + [\"Attrition\"]].corr(method=\"pearson\")\n",
        "plt.figure(figsize=(12, 10))\n",
        "sns.heatmap(pearson_corr, annot=True, fmt=\".2f\", cmap=\"coolwarm\", square=True, linewidths=.5)\n",
        "plt.title(\"Pearson Correlation: Continuous Numeric Features & Attrition\")\n",
        "plt.show()\n",
        "\n",
        "# Print sorted correlation with Attrition\n",
        "print(\"Pearson correlations with Attrition (continuous features):\")\n",
        "print(pearson_corr[\"Attrition\"].drop(\"Attrition\").sort_values(ascending=False))"
      ],
      "metadata": {
        "id": "417Kx_evlr69"
      },
      "execution_count": null,
      "outputs": []
    },
    {
      "cell_type": "code",
      "source": [
        "# Define ordinal feature groups\n",
        "ordinal_features = ['Education', 'EnvironmentSatisfaction', 'JobInvolvement', 'JobLevel',\n",
        "                    'JobSatisfaction', 'RelationshipSatisfaction', 'WorkLifeBalance']\n",
        "\n",
        "# Spearman correlation for ordinal features\n",
        "spearman_corr = df[ordinal_features + [\"Attrition\"]].corr(method=\"spearman\")\n",
        "plt.figure(figsize=(8, 6))\n",
        "sns.heatmap(spearman_corr, annot=True, fmt=\".2f\", cmap=\"viridis\", square=True, linewidths=.5)\n",
        "plt.title(\"Spearman Correlation: Ordinal Features & Attrition\")\n",
        "plt.show()\n",
        "\n",
        "print(\"\\nSpearman correlations with Attrition (ordinal features):\")\n",
        "print(spearman_corr[\"Attrition\"].drop(\"Attrition\").sort_values(ascending=False))"
      ],
      "metadata": {
        "id": "5NjP4vw5iLlB"
      },
      "execution_count": null,
      "outputs": []
    },
    {
      "cell_type": "markdown",
      "source": [
        "**Catatan**: Korelasi dihitung menggunakan **Pearson** untuk fitur numerik kontinu dan **Spearman** untuk fitur ordinal.\n",
        "\n",
        "### 1. Korelasi Positif (semakin besar, semakin cenderung keluar)\n",
        "- **DistanceFromHome**: +0.078  \n",
        "- **NumCompaniesWorked**: +0.037  \n",
        "- **MonthlyRate**: +0.023  \n",
        "\n",
        "> Semua korelasi tergolong **sangat lemah** (< |0.10|).\n",
        "\n",
        "---\n",
        "\n",
        "### 2. Korelasi Negatif (semakin besar, semakin cenderung bertahan)  \n",
        "Fokus pada nilai **≤ –0.12**:\n",
        "\n",
        "| Fitur                       | Korelasi  | Tipe      |\n",
        "|-----------------------------|----------:|-----------|\n",
        "| **JobLevel**                | –0.1918   | Ordinal   |\n",
        "| **TotalWorkingYears**       | –0.1771   | Numeric   |\n",
        "| **Age**                     | –0.1721   | Numeric   |\n",
        "| **StockOptionLevel**        | –0.1642   | Numeric   |\n",
        "| **MonthlyIncome**           | –0.1636   | Numeric   |\n",
        "| **YearsInCurrentRole**      | –0.1588   | Numeric   |\n",
        "| **YearsWithCurrManager**    | –0.1560   | Numeric   |\n",
        "| **JobInvolvement**          | –0.1366   | Ordinal   |\n",
        "| **YearsAtCompany**          | –0.1351   | Numeric   |\n",
        "| **EnvironmentSatisfaction** | –0.1267   | Ordinal   |\n",
        "\n",
        "> Fitur-fitur ini memiliki hubungan negatif terkuat dengan `Attrition`—nilai yang lebih tinggi menunjukkan peluang churn yang lebih rendah.\n",
        "\n",
        "---\n",
        "\n",
        "## Fitur yang Direkomendasikan untuk Dibuang\n",
        "\n",
        "1. **Tidak Variatif (Konstan)**  \n",
        "   - `EmployeeCount`  \n",
        "   - `StandardHours`  \n",
        "   - `Over18`\n",
        "\n",
        "2. **Korelasi Sangat Lemah dengan Attrition**  \n",
        "   - `MonthlyRate`  \n",
        "   - `DailyRate`  \n",
        "   - `HourlyRate`\n"
      ],
      "metadata": {
        "id": "thK8VwC9vSHy"
      }
    },
    {
      "cell_type": "markdown",
      "metadata": {
        "id": "7POkdoaizLfs"
      },
      "source": [
        "## Data Preparation / Preprocessing"
      ]
    },
    {
      "cell_type": "markdown",
      "source": [
        "1. Tangani missing values (Attrition) & konversi ke integer\n",
        "2. Drop kolom konstan/identifier\n",
        "3. Encoding fitur kategorikal/ordinal"
      ],
      "metadata": {
        "id": "GY5F6qKdErJC"
      }
    },
    {
      "cell_type": "code",
      "execution_count": null,
      "metadata": {
        "id": "CqzwumoPzLft"
      },
      "outputs": [],
      "source": [
        "# 1. Ubah fitur Attrition ke int64\n",
        "df = df.dropna(subset=[\"Attrition\"]).copy()\n",
        "df[\"Attrition\"] = df[\"Attrition\"].astype(int)\n",
        "\n",
        "# 2. Drop kolom konstan dan korelasi lemah\n",
        "cols_to_drop = [\n",
        "    \"EmployeeId\", \"EmployeeCount\", \"StandardHours\", \"Over18\",\n",
        "    \"MonthlyRate\", \"DailyRate\", \"HourlyRate\"\n",
        "]\n",
        "df = df.drop(columns=cols_to_drop)"
      ]
    },
    {
      "cell_type": "code",
      "source": [
        "# 3. Periksa fitur apa yang menggunakan Ordinal Encoding atau One-Hot Encoding\n",
        "# Ordinal Encoding dipakai untuk urutan (mis. OverTime, Gender dalam konteks biner).\n",
        "# One-Hot Encoding untuk fitur nominal banyak level seperti MaritalStatus.\n",
        "df.select_dtypes(include=['object']).nunique()"
      ],
      "metadata": {
        "id": "aBtWwOPiMvdF"
      },
      "execution_count": null,
      "outputs": []
    },
    {
      "cell_type": "code",
      "source": [
        "# 3.1 Ordinal Encoding for binary categorical features\n",
        "ordinal_features = [\"Gender\", \"OverTime\"]\n",
        "ord_enc = OrdinalEncoder()\n",
        "df[ordinal_features] = ord_enc.fit_transform(df[ordinal_features])\n",
        "\n",
        "# 3.2 One-Hot Encoding for all nominal features including BusinessTravel\n",
        "nominal_features = [\"BusinessTravel\", \"Department\", \"EducationField\", \"JobRole\", \"MaritalStatus\"]\n",
        "ohe = OneHotEncoder(drop='first', sparse_output=False, dtype=int)\n",
        "X_ohe = ohe.fit_transform(df[nominal_features])\n",
        "ohe_cols = ohe.get_feature_names_out(nominal_features)\n",
        "df_ohe = pd.DataFrame(X_ohe, columns=ohe_cols, index=df.index)\n",
        "\n",
        "# 3.3 Concatenate and drop original nominal columns\n",
        "df = pd.concat([df.drop(columns=nominal_features), df_ohe], axis=1)"
      ],
      "metadata": {
        "id": "2bd0fHMFH3US"
      },
      "execution_count": null,
      "outputs": []
    },
    {
      "cell_type": "code",
      "source": [
        "# 3.4 Display resulting DataFrame info\n",
        "print(\"Final DataFrame shape:\", df.shape)\n",
        "df.info()"
      ],
      "metadata": {
        "id": "o4KKf5qaQrBU"
      },
      "execution_count": null,
      "outputs": []
    },
    {
      "cell_type": "code",
      "source": [
        "df.head()"
      ],
      "metadata": {
        "id": "e_0XLXCqFVaj"
      },
      "execution_count": null,
      "outputs": []
    },
    {
      "cell_type": "code",
      "source": [],
      "metadata": {
        "id": "nFWS9R0zZs2P"
      },
      "execution_count": null,
      "outputs": []
    },
    {
      "cell_type": "markdown",
      "metadata": {
        "id": "Bk7CAL9QzLft"
      },
      "source": [
        "## Modeling"
      ]
    },
    {
      "cell_type": "code",
      "execution_count": null,
      "metadata": {
        "id": "-WV2wDitzLfu"
      },
      "outputs": [],
      "source": []
    },
    {
      "cell_type": "markdown",
      "metadata": {
        "id": "WCLchjrazLfu"
      },
      "source": [
        "## Evaluation"
      ]
    },
    {
      "cell_type": "code",
      "execution_count": null,
      "metadata": {
        "id": "fedBx1iMzLfu"
      },
      "outputs": [],
      "source": []
    }
  ],
  "metadata": {
    "kernelspec": {
      "display_name": "ds",
      "language": "python",
      "name": "python3"
    },
    "language_info": {
      "name": "python",
      "version": "3.9.18"
    },
    "orig_nbformat": 4,
    "colab": {
      "provenance": []
    }
  },
  "nbformat": 4,
  "nbformat_minor": 0
}